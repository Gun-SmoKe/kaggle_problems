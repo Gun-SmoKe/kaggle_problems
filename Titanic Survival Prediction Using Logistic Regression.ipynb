{
 "cells": [
  {
   "cell_type": "code",
   "execution_count": 1,
   "metadata": {},
   "outputs": [
    {
     "name": "stdout",
     "output_type": "stream",
     "text": [
      "Accuracy is : 0.7991021324354658\n"
     ]
    }
   ],
   "source": [
    "import numpy as np\n",
    "import pandas as pd\n",
    "from sklearn.metrics import accuracy_score\n",
    "from sklearn.linear_model import LogisticRegression\n",
    "x=pd.read_csv(\"train_titanic.csv\")\n",
    "y=x.pop(\"Survived\")\n",
    "#Selecting Numerical values alone\n",
    "x=x.drop(['Name','Ticket','Cabin','Embarked'],axis=1)\n",
    "from sklearn.preprocessing import StandardScaler\n",
    "sc = StandardScaler()\n",
    "x = sc.fit_transform(x)\n",
    "y = sc.transform(y)\n",
    "from sklearn.preprocessing import LabelEncoder\n",
    "labelencoder = LabelEncoder()\n",
    "x['Sex']=labelencoder.fit_transform(x['Sex'])\n",
    "#passenger ID 6 has actually no age but now we applied with mean value\n",
    "x['Age'].fillna(x.Age.mean(), inplace=True)\n",
    "model = LogisticRegression(random_state = 0)\n",
    "model.fit(x,y)\n",
    "print ('Accuracy is :' , accuracy_score(y,model.predict(x)))\n",
    "test=pd.read_csv ('test_titanic.csv')\n",
    "test=test.drop(['Name','Ticket','Cabin','Embarked'],axis=1)\n",
    "test['Sex']=labelencoder.fit_transform(test['Sex'])\n",
    "test[\"Age\"].fillna(test.Age.mean(), inplace=True)\n",
    "test[\"Fare\"].fillna(test.Fare.mean(), inplace=True)\n",
    "y_pred = model.predict(test)\n"
   ]
  },
  {
   "cell_type": "code",
   "execution_count": null,
   "metadata": {},
   "outputs": [],
   "source": [
    "submission = pd.DataFrame({\n",
    "\"PassengerId\":test[\n",
    "\"PassengerId\"], \"Survived\" : y_pred})\n",
    "submission.to_csv('Titanic KNN.csv', index=False)\n",
    "submission.head()"
   ]
  }
 ],
 "metadata": {
  "kernelspec": {
   "display_name": "Python 3",
   "language": "python",
   "name": "python3"
  },
  "language_info": {
   "codemirror_mode": {
    "name": "ipython",
    "version": 3
   },
   "file_extension": ".py",
   "mimetype": "text/x-python",
   "name": "python",
   "nbconvert_exporter": "python",
   "pygments_lexer": "ipython3",
   "version": "3.6.5"
  }
 },
 "nbformat": 4,
 "nbformat_minor": 2
}
